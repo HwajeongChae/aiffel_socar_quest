{
 "cells": [
  {
   "cell_type": "markdown",
   "id": "68ab4770",
   "metadata": {},
   "source": [
    "# Week2: 쏘카존 최적 위치를 찾아라\n",
    "## 나만의 n면체 주사위 위젯 만들기\n",
    "\n",
    "- 기능\n",
    "    - 주사위 면의 개수 n을 입력받음\n",
    "    - 주사위를 던지면 1~n까지의 눈의 수 가운데 랜덤으로 하나의 값이 출력"
   ]
  },
  {
   "cell_type": "code",
   "execution_count": 27,
   "id": "8e0008ea",
   "metadata": {},
   "outputs": [
    {
     "name": "stdout",
     "output_type": "stream",
     "text": [
      "주사위 면의 개수를 입력하세요: 12\n",
      "행운의 숫자는 12입니다!\n"
     ]
    }
   ],
   "source": [
    "# 입력시 cheat number를 함께 입력하면, cheat number를 출력하도록 함.\n",
    "\n",
    "from random import randrange\n",
    "\n",
    "class FunnyDice2:\n",
    "    def __init__(self, n=6):\n",
    "        self.n = int(n)\n",
    "        self.val = randrange(1, self.n+1)\n",
    "    \n",
    "    def throw(self):\n",
    "        self.val = randrange(1, self.n+1)\n",
    "        # 주사위 던지기\n",
    "    \n",
    "    def setval(self, val):\n",
    "        if val > self.n:\n",
    "            raise ValueError(f\"이 숫자는 {self.n} 범위 내에 존재하지 않습니다. 다시 입력해주세요.\")\n",
    "        self.val = val\n",
    "        # cheat number 입력받기\n",
    "        # 만약 주사위 눈의 수보다 cheat number가 큰 경우 오류 메시지 출력\n",
    "    \n",
    "    def getval(self):\n",
    "        return self.val\n",
    "    \n",
    "def get_inputs():\n",
    "    inputs = input('주사위 면의 개수를 입력하세요: ')\n",
    "    if ',' in inputs:\n",
    "        n, val = map(int, inputs.split(','))\n",
    "        # comma를 이용해서 숫자를 입력하는 경우\n",
    "        # 앞의 숫자는 주사위 면의 수, 뒤의 숫자는 cheat number\n",
    "    else:\n",
    "        n = int(inputs)\n",
    "        val = randrange(1, n+1)\n",
    "        # comma 없이 입력하는 경우 (cheat number 없음)\n",
    "    return n, val\n",
    "\n",
    "def main():\n",
    "    n, val = get_inputs()\n",
    "    mydice = FunnyDice2(n)\n",
    "    mydice.throw()\n",
    "    mydice.setval(val)\n",
    "    print(f\"행운의 숫자는 {mydice.getval()}입니다!\")\n",
    "\n",
    "if __name__ == '__main__':\n",
    "    main()"
   ]
  },
  {
   "cell_type": "code",
   "execution_count": 28,
   "id": "39f545b5",
   "metadata": {},
   "outputs": [
    {
     "name": "stdout",
     "output_type": "stream",
     "text": [
      "주사위 면의 개수를 입력하세요: 5,13\n"
     ]
    },
    {
     "ename": "ValueError",
     "evalue": "이 숫자는 5 범위 내에 존재하지 않습니다. 다시 입력해주세요.",
     "output_type": "error",
     "traceback": [
      "\u001b[0;31m---------------------------------------------------------------------------\u001b[0m",
      "\u001b[0;31mValueError\u001b[0m                                Traceback (most recent call last)",
      "\u001b[0;32m/tmp/ipykernel_47/451043146.py\u001b[0m in \u001b[0;36m<module>\u001b[0;34m\u001b[0m\n\u001b[0;32m----> 1\u001b[0;31m \u001b[0mmain\u001b[0m\u001b[0;34m(\u001b[0m\u001b[0;34m)\u001b[0m\u001b[0;34m\u001b[0m\u001b[0;34m\u001b[0m\u001b[0m\n\u001b[0m",
      "\u001b[0;32m/tmp/ipykernel_47/2368835089.py\u001b[0m in \u001b[0;36mmain\u001b[0;34m()\u001b[0m\n\u001b[1;32m     38\u001b[0m     \u001b[0mmydice\u001b[0m \u001b[0;34m=\u001b[0m \u001b[0mFunnyDice2\u001b[0m\u001b[0;34m(\u001b[0m\u001b[0mn\u001b[0m\u001b[0;34m)\u001b[0m\u001b[0;34m\u001b[0m\u001b[0;34m\u001b[0m\u001b[0m\n\u001b[1;32m     39\u001b[0m     \u001b[0mmydice\u001b[0m\u001b[0;34m.\u001b[0m\u001b[0mthrow\u001b[0m\u001b[0;34m(\u001b[0m\u001b[0;34m)\u001b[0m\u001b[0;34m\u001b[0m\u001b[0;34m\u001b[0m\u001b[0m\n\u001b[0;32m---> 40\u001b[0;31m     \u001b[0mmydice\u001b[0m\u001b[0;34m.\u001b[0m\u001b[0msetval\u001b[0m\u001b[0;34m(\u001b[0m\u001b[0mval\u001b[0m\u001b[0;34m)\u001b[0m\u001b[0;34m\u001b[0m\u001b[0;34m\u001b[0m\u001b[0m\n\u001b[0m\u001b[1;32m     41\u001b[0m     \u001b[0mprint\u001b[0m\u001b[0;34m(\u001b[0m\u001b[0;34mf\"행운의 숫자는 {mydice.getval()}입니다!\"\u001b[0m\u001b[0;34m)\u001b[0m\u001b[0;34m\u001b[0m\u001b[0;34m\u001b[0m\u001b[0m\n\u001b[1;32m     42\u001b[0m \u001b[0;34m\u001b[0m\u001b[0m\n",
      "\u001b[0;32m/tmp/ipykernel_47/2368835089.py\u001b[0m in \u001b[0;36msetval\u001b[0;34m(self, val)\u001b[0m\n\u001b[1;32m     14\u001b[0m     \u001b[0;32mdef\u001b[0m \u001b[0msetval\u001b[0m\u001b[0;34m(\u001b[0m\u001b[0mself\u001b[0m\u001b[0;34m,\u001b[0m \u001b[0mval\u001b[0m\u001b[0;34m)\u001b[0m\u001b[0;34m:\u001b[0m\u001b[0;34m\u001b[0m\u001b[0;34m\u001b[0m\u001b[0m\n\u001b[1;32m     15\u001b[0m         \u001b[0;32mif\u001b[0m \u001b[0mval\u001b[0m \u001b[0;34m>\u001b[0m \u001b[0mself\u001b[0m\u001b[0;34m.\u001b[0m\u001b[0mn\u001b[0m\u001b[0;34m:\u001b[0m\u001b[0;34m\u001b[0m\u001b[0;34m\u001b[0m\u001b[0m\n\u001b[0;32m---> 16\u001b[0;31m             \u001b[0;32mraise\u001b[0m \u001b[0mValueError\u001b[0m\u001b[0;34m(\u001b[0m\u001b[0;34mf\"이 숫자는 {self.n} 범위 내에 존재하지 않습니다. 다시 입력해주세요.\"\u001b[0m\u001b[0;34m)\u001b[0m\u001b[0;34m\u001b[0m\u001b[0;34m\u001b[0m\u001b[0m\n\u001b[0m\u001b[1;32m     17\u001b[0m         \u001b[0mself\u001b[0m\u001b[0;34m.\u001b[0m\u001b[0mval\u001b[0m \u001b[0;34m=\u001b[0m \u001b[0mval\u001b[0m\u001b[0;34m\u001b[0m\u001b[0;34m\u001b[0m\u001b[0m\n\u001b[1;32m     18\u001b[0m         \u001b[0;31m# cheat number 입력받기\u001b[0m\u001b[0;34m\u001b[0m\u001b[0;34m\u001b[0m\u001b[0m\n",
      "\u001b[0;31mValueError\u001b[0m: 이 숫자는 5 범위 내에 존재하지 않습니다. 다시 입력해주세요."
     ]
    }
   ],
   "source": [
    "main()"
   ]
  },
  {
   "cell_type": "code",
   "execution_count": 29,
   "id": "63ffcaf0",
   "metadata": {},
   "outputs": [
    {
     "name": "stdout",
     "output_type": "stream",
     "text": [
      "주사위 면의 개수를 입력하세요: 9,2\n",
      "행운의 숫자는 2입니다!\n"
     ]
    }
   ],
   "source": [
    "main()"
   ]
  },
  {
   "cell_type": "code",
   "execution_count": null,
   "id": "3647bdcb",
   "metadata": {},
   "outputs": [],
   "source": []
  }
 ],
 "metadata": {
  "kernelspec": {
   "display_name": "Python 3 (ipykernel)",
   "language": "python",
   "name": "python3"
  },
  "language_info": {
   "codemirror_mode": {
    "name": "ipython",
    "version": 3
   },
   "file_extension": ".py",
   "mimetype": "text/x-python",
   "name": "python",
   "nbconvert_exporter": "python",
   "pygments_lexer": "ipython3",
   "version": "3.9.7"
  }
 },
 "nbformat": 4,
 "nbformat_minor": 5
}
