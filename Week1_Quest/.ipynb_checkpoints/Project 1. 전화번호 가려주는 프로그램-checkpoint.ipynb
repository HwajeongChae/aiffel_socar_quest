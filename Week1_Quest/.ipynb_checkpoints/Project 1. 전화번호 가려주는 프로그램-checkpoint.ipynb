{
 "cells": [
  {
   "cell_type": "markdown",
   "id": "254df3e3",
   "metadata": {},
   "source": [
    "# Week 1 : 파이썬 어디까지 파봐썬\n",
    "## 프로젝트 실습\n",
    "### 1. 전화번호 가려주는 프로그램\n",
    "\n",
    "**전화번호가 입력되었을 때, 뒷자리 숫자 5개를 마스킹하는 프로그램**   \n",
    "※단, 문제의 조건대로 전화번호의 형태는 \"010-XXXXX-XXXXX\"로 가정함."
   ]
  },
  {
   "cell_type": "code",
   "execution_count": 15,
   "id": "88f40b2b",
   "metadata": {},
   "outputs": [],
   "source": [
    "def change_num():\n",
    "    while True:\n",
    "        nums = input('전화번호를 입력하세요: ')\n",
    "        if len(nums) == 15 and '-' in nums:\n",
    "            chngd_nums = nums.replace(nums[-5:], '#####')\n",
    "            return chngd_nums\n",
    "        else:\n",
    "            print('입력이 정확하지 않습니다. \"010-XXXXX-XXXXX\"의 형태로 작성해주세요.')"
   ]
  },
  {
   "cell_type": "code",
   "execution_count": 16,
   "id": "a1283ef9",
   "metadata": {},
   "outputs": [
    {
     "name": "stdout",
     "output_type": "stream",
     "text": [
      "전화번호를 입력하세요: 0101234556789\n",
      "입력이 정확하지 않습니다. \"010-XXXXX-XXXXX\"의 형태로 작성해주세요.\n",
      "전화번호를 입력하세요: 010-12345-56789\n"
     ]
    },
    {
     "data": {
      "text/plain": [
       "'010-12345-#####'"
      ]
     },
     "execution_count": 16,
     "metadata": {},
     "output_type": "execute_result"
    }
   ],
   "source": [
    "change_num()"
   ]
  },
  {
   "cell_type": "code",
   "execution_count": 21,
   "id": "7268081f",
   "metadata": {},
   "outputs": [],
   "source": [
    "def change_num():\n",
    "    while True:\n",
    "        nums = str(input('전화번호를 입력하세요: '))\n",
    "        if len(nums) == 15 and nums[3] == '-' and nums[-6] == '-':\n",
    "            chngd_nums = nums.replace(nums[-5:], '#####')\n",
    "            return chngd_nums\n",
    "        elif len(nums) == 13 and '-' not in nums:\n",
    "            chngd_nums = nums[:4]+'-'+nums[4:9]+'-'+'#####'\n",
    "            return chngd_nums\n",
    "        else:\n",
    "            print('입력이 정확하지 않습니다. \"010-XXXXX-XXXXX\"의 형태로 작성해주세요.')"
   ]
  },
  {
   "cell_type": "code",
   "execution_count": 22,
   "id": "13c5e4e4",
   "metadata": {},
   "outputs": [
    {
     "name": "stdout",
     "output_type": "stream",
     "text": [
      "전화번호를 입력하세요: 0101234556789\n"
     ]
    },
    {
     "data": {
      "text/plain": [
       "'0101-23455-#####'"
      ]
     },
     "execution_count": 22,
     "metadata": {},
     "output_type": "execute_result"
    }
   ],
   "source": [
    "change_num()"
   ]
  }
 ],
 "metadata": {
  "kernelspec": {
   "display_name": "Python 3 (ipykernel)",
   "language": "python",
   "name": "python3"
  },
  "language_info": {
   "codemirror_mode": {
    "name": "ipython",
    "version": 3
   },
   "file_extension": ".py",
   "mimetype": "text/x-python",
   "name": "python",
   "nbconvert_exporter": "python",
   "pygments_lexer": "ipython3",
   "version": "3.9.7"
  }
 },
 "nbformat": 4,
 "nbformat_minor": 5
}
