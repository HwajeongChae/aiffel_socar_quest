{
 "cells": [
  {
   "cell_type": "markdown",
   "id": "3f004440",
   "metadata": {},
   "source": [
    "# Week 1 : 파이썬 어디까지 파봐썬\n",
    "## 프로젝트 실습\n",
    "### 2. 리스트 평탄화\n",
    "\n",
    "**※ 리스트 평탄화란?**   \n",
    "중첩된 리스트가 있을 때 중첩을 모두 제거하고 풀어서 1차원 리스트로 만드는 것"
   ]
  },
  {
   "cell_type": "code",
   "execution_count": 44,
   "id": "b6d63dbc",
   "metadata": {},
   "outputs": [],
   "source": [
    "def flatten(data):\n",
    "    output = []\n",
    "    for i in data:\n",
    "        if type(i) == int:\n",
    "            output.append(i)\n",
    "        else:\n",
    "            output += flatten(i) # 해당 요소가 정수가 아닌 경우, 다시 flatten 함수에 전달하여 평탄화(재귀)\n",
    "    return output"
   ]
  },
  {
   "cell_type": "code",
   "execution_count": 45,
   "id": "281d21d1",
   "metadata": {},
   "outputs": [
    {
     "data": {
      "text/plain": [
       "[1, 2, 3, 4, 5, 6, 7, 8, 9]"
      ]
     },
     "execution_count": 45,
     "metadata": {},
     "output_type": "execute_result"
    }
   ],
   "source": [
    "overlap = [[1, 2], 3, [[4, 5, 6], 7], 8, 9]\n",
    "\n",
    "flatten(overlap)"
   ]
  },
  {
   "cell_type": "code",
   "execution_count": 46,
   "id": "0fb7258b",
   "metadata": {},
   "outputs": [],
   "source": [
    "# 다르게 만들어보기\n",
    "\n",
    "def flatten2(data):\n",
    "    output = []\n",
    "    temp = list(data)\n",
    "    \n",
    "    while temp: #temp가 비어있지 않은 동안 실행. 즉, 값이 남아있는 경우 실행\n",
    "        i = temp.pop(0)\n",
    "        \n",
    "        if isinstance(i,int):\n",
    "            output.append(i)\n",
    "        else:\n",
    "            temp += i\n",
    "    return output"
   ]
  },
  {
   "cell_type": "code",
   "execution_count": 47,
   "id": "2a2b8069",
   "metadata": {},
   "outputs": [
    {
     "data": {
      "text/plain": [
       "[3, 8, 9, 1, 2, 7, 4, 5, 6]"
      ]
     },
     "execution_count": 47,
     "metadata": {},
     "output_type": "execute_result"
    }
   ],
   "source": [
    "flatten2(overlap)"
   ]
  },
  {
   "cell_type": "markdown",
   "id": "ca6e2275",
   "metadata": {},
   "source": [
    "- - -\n",
    "- 느낀점: 눈으로만 봤을 땐 쉬울 것 같은데 막상 코드로 구현하려니 막히는 부분이 있었다. 같은 역할을 하지만 다르게 구성된 코드를 짜보면서, 오히려 이해가 잘 되는 것 같았다. 다만 평탄화 1번의 경우 원본 리스트의 순서(?)를 그대로 유지하나, 평탄화 2번의 경우에는 중첩된 리스트가 많을수록 후미에 배치되어 있어 순서를 유지하지 못해 아쉽다."
   ]
  }
 ],
 "metadata": {
  "kernelspec": {
   "display_name": "Python 3 (ipykernel)",
   "language": "python",
   "name": "python3"
  },
  "language_info": {
   "codemirror_mode": {
    "name": "ipython",
    "version": 3
   },
   "file_extension": ".py",
   "mimetype": "text/x-python",
   "name": "python",
   "nbconvert_exporter": "python",
   "pygments_lexer": "ipython3",
   "version": "3.9.7"
  }
 },
 "nbformat": 4,
 "nbformat_minor": 5
}
