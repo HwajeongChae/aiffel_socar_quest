{
 "cells": [
  {
   "cell_type": "markdown",
   "id": "fbc5c496",
   "metadata": {},
   "source": [
    "# Week 1 : 파이썬 어디까지 파봐썬\n",
    "## 프로젝트 실습\n",
    "### 1. 전화번호 가려주는 프로그램\n",
    "\n",
    "**전화번호가 입력되었을 때, 뒷자리 숫자 5개를 마스킹하는 프로그램**   \n",
    "※단, 문제의 조건대로 전화번호의 형태는 \"010-XXXXX-XXXXX\"로 가정함."
   ]
  },
  {
   "cell_type": "code",
   "execution_count": 15,
   "id": "0c1b6578",
   "metadata": {},
   "outputs": [],
   "source": [
    "def change_num():\n",
    "    while True:\n",
    "        nums = input('전화번호를 입력하세요: ')\n",
    "        if len(nums) == 15 and '-' in nums:\n",
    "            chngd_nums = nums.replace(nums[-5:], '#####')\n",
    "            return chngd_nums\n",
    "        else:\n",
    "            print('입력이 정확하지 않습니다. \"010-XXXXX-XXXXX\"의 형태로 작성해주세요.')"
   ]
  },
  {
   "cell_type": "code",
   "execution_count": 16,
   "id": "8131d2c2",
   "metadata": {},
   "outputs": [
    {
     "name": "stdout",
     "output_type": "stream",
     "text": [
      "전화번호를 입력하세요: 0101234556789\n",
      "입력이 정확하지 않습니다. \"010-XXXXX-XXXXX\"의 형태로 작성해주세요.\n",
      "전화번호를 입력하세요: 010-12345-56789\n"
     ]
    },
    {
     "data": {
      "text/plain": [
       "'010-12345-#####'"
      ]
     },
     "execution_count": 16,
     "metadata": {},
     "output_type": "execute_result"
    }
   ],
   "source": [
    "change_num()"
   ]
  },
  {
   "cell_type": "code",
   "execution_count": 21,
   "id": "996f7bd9",
   "metadata": {},
   "outputs": [],
   "source": [
    "def change_num():\n",
    "    while True:\n",
    "        nums = str(input('전화번호를 입력하세요: '))\n",
    "        if len(nums) == 15 and nums[3] == '-' and nums[-6] == '-':\n",
    "            chngd_nums = nums.replace(nums[-5:], '#####')\n",
    "            return chngd_nums\n",
    "        elif len(nums) == 13 and '-' not in nums:\n",
    "            chngd_nums = nums[:4]+'-'+nums[4:9]+'-'+'#####'\n",
    "            return chngd_nums\n",
    "        else:\n",
    "            print('입력이 정확하지 않습니다. \"010-XXXXX-XXXXX\"의 형태로 작성해주세요.')"
   ]
  },
  {
   "cell_type": "code",
   "execution_count": 22,
   "id": "d56cf1ef",
   "metadata": {},
   "outputs": [
    {
     "name": "stdout",
     "output_type": "stream",
     "text": [
      "전화번호를 입력하세요: 0101234556789\n"
     ]
    },
    {
     "data": {
      "text/plain": [
       "'0101-23455-#####'"
      ]
     },
     "execution_count": 22,
     "metadata": {},
     "output_type": "execute_result"
    }
   ],
   "source": [
    "change_num()"
   ]
  },
  {
   "cell_type": "markdown",
   "id": "92c51f01",
   "metadata": {},
   "source": [
    "### 2. 리스트 평탄화\n",
    "\n",
    "**※ 리스트 평탄화란?**   \n",
    "중첩된 리스트가 있을 때 중첩을 모두 제거하고 풀어서 1차원 리스트로 만드는 것"
   ]
  },
  {
   "cell_type": "code",
   "execution_count": 2,
   "id": "f7b5f044",
   "metadata": {},
   "outputs": [],
   "source": [
    "def flatten(data):\n",
    "    output = []\n",
    "    for i in data:\n",
    "        if type(i) == int:\n",
    "            output.append(i)\n",
    "        else:\n",
    "            output += flatten(i) # 해당 요소가 정수가 아닌 경우, 다시 flatten 함수에 전달하여 평탄화(재귀)\n",
    "    return output"
   ]
  },
  {
   "cell_type": "code",
   "execution_count": 3,
   "id": "366f179a",
   "metadata": {},
   "outputs": [
    {
     "data": {
      "text/plain": [
       "[1, 2, 3, 4, 5, 6, 7, 8, 9]"
      ]
     },
     "execution_count": 3,
     "metadata": {},
     "output_type": "execute_result"
    }
   ],
   "source": [
    "overlap = [[1, 2], 3, [[4, 5, 6], 7], 8, 9]\n",
    "\n",
    "flatten(overlap)"
   ]
  },
  {
   "cell_type": "code",
   "execution_count": 4,
   "id": "fcfbd711",
   "metadata": {},
   "outputs": [],
   "source": [
    "# 다르게 만들어보기\n",
    "\n",
    "def flatten2(data):\n",
    "    output = []\n",
    "    temp = list(data)\n",
    "    \n",
    "    while temp: #temp가 비어있지 않은 동안 실행. 즉, 값이 남아있는 경우 실행\n",
    "        i = temp.pop(0)\n",
    "        \n",
    "        if isinstance(i,int):\n",
    "            output.append(i)\n",
    "        else:\n",
    "            temp += i\n",
    "    return output"
   ]
  },
  {
   "cell_type": "code",
   "execution_count": 5,
   "id": "4e93bffa",
   "metadata": {},
   "outputs": [
    {
     "data": {
      "text/plain": [
       "[3, 8, 9, 1, 2, 7, 4, 5, 6]"
      ]
     },
     "execution_count": 5,
     "metadata": {},
     "output_type": "execute_result"
    }
   ],
   "source": [
    "flatten2(overlap)"
   ]
  },
  {
   "cell_type": "markdown",
   "id": "c947b354",
   "metadata": {},
   "source": [
    "### 3. 10 이하 숫자만 곱해주는 함수"
   ]
  },
  {
   "cell_type": "code",
   "execution_count": 6,
   "id": "3fecb425",
   "metadata": {},
   "outputs": [],
   "source": [
    "\"\"\"\n",
    "복습!\n",
    "\n",
    "input 값이 둘다 정수라면 두 정수를 나눴을 때의 값을 구해주고,\n",
    "정수가 아니라면 '정수만 계산 가능합니다'라고 출력하고 결과값은 None으로 출력하는 함수입니다.\n",
    "\"\"\"\n",
    "\n",
    "def int_divider(x, y):\n",
    "    if x % 1 == 0 and y % 1 == 0: # 정수 여부 판별\n",
    "        answer = x / y\n",
    "    else:\n",
    "        print('정수만 가능합니다.')\n",
    "        answer = None\n",
    "    return answer"
   ]
  },
  {
   "cell_type": "code",
   "execution_count": 7,
   "id": "b208451e",
   "metadata": {},
   "outputs": [
    {
     "data": {
      "text/plain": [
       "3.3333333333333335"
      ]
     },
     "execution_count": 7,
     "metadata": {},
     "output_type": "execute_result"
    }
   ],
   "source": [
    "int_divider(10, 3)"
   ]
  },
  {
   "cell_type": "code",
   "execution_count": 8,
   "id": "ff187bd4",
   "metadata": {},
   "outputs": [
    {
     "name": "stdout",
     "output_type": "stream",
     "text": [
      "정수만 가능합니다.\n"
     ]
    }
   ],
   "source": [
    "int_divider(-1, 0.9)"
   ]
  },
  {
   "cell_type": "code",
   "execution_count": 12,
   "id": "67de0464",
   "metadata": {},
   "outputs": [],
   "source": [
    "\"\"\"\n",
    "만들고자 하는 함수: 몇개의 input이 들어오든지 상관없이,\n",
    "10 이하의 숫자(=자연수)면 모두 곱해주는 함수\n",
    "\"\"\"\n",
    "\n",
    "def mul(*vals):\n",
    "    output = 1\n",
    "    \n",
    "    for num in vals:\n",
    "        if 0 < num <= 10:\n",
    "            output *= num\n",
    "        else:\n",
    "            pass\n",
    "    return output"
   ]
  },
  {
   "cell_type": "code",
   "execution_count": 13,
   "id": "b6e99b06",
   "metadata": {},
   "outputs": [
    {
     "data": {
      "text/plain": [
       "120"
      ]
     },
     "execution_count": 13,
     "metadata": {},
     "output_type": "execute_result"
    }
   ],
   "source": [
    "mul(2, 3, 4, 5)"
   ]
  },
  {
   "cell_type": "code",
   "execution_count": 14,
   "id": "d272a586",
   "metadata": {},
   "outputs": [
    {
     "data": {
      "text/plain": [
       "30"
      ]
     },
     "execution_count": 14,
     "metadata": {},
     "output_type": "execute_result"
    }
   ],
   "source": [
    "mul(3, 12, 10)"
   ]
  },
  {
   "cell_type": "markdown",
   "id": "1e516022",
   "metadata": {},
   "source": [
    "- - - -\n",
    "**느낀 점**   \n",
    "   \n",
    "눈으로만 읽고 이해했을 때와 막상 직접 코드를 작성하려고 하니 달랐다. 또한 직접 작성하면서 발생가능한 예외상황을 왠만하면 처리해주고 싶은데, 고려해야 할 지점이 너무 많은 것 같아서 조금 타협한 면이 있다. 가능한 경우 비슷한 기능을 하는 다른 코드도 작성하려고 노력했는데, 다양한 코드를 작성해보며 이해할 수 있었다. 다음에는 더 깔끔하고 효율적인 코드를 작성하도록 노력할 것임."
   ]
  },
  {
   "cell_type": "code",
   "execution_count": null,
   "id": "2a284e21",
   "metadata": {},
   "outputs": [],
   "source": []
  },
  {
   "cell_type": "code",
   "execution_count": null,
   "id": "7755dced",
   "metadata": {},
   "outputs": [],
   "source": []
  }
 ],
 "metadata": {
  "kernelspec": {
   "display_name": "Python 3 (ipykernel)",
   "language": "python",
   "name": "python3"
  },
  "language_info": {
   "codemirror_mode": {
    "name": "ipython",
    "version": 3
   },
   "file_extension": ".py",
   "mimetype": "text/x-python",
   "name": "python",
   "nbconvert_exporter": "python",
   "pygments_lexer": "ipython3",
   "version": "3.9.7"
  }
 },
 "nbformat": 4,
 "nbformat_minor": 5
}
