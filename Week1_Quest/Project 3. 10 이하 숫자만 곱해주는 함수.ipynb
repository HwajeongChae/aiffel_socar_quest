{
 "cells": [
  {
   "cell_type": "markdown",
   "id": "f73c64f7",
   "metadata": {},
   "source": [
    "# Week 1 : 파이썬 어디까지 파봐썬\n",
    "## 프로젝트 실습\n",
    "### 3. 10 이하 숫자만 곱해주는 함수"
   ]
  },
  {
   "cell_type": "code",
   "execution_count": 1,
   "id": "d587b2da",
   "metadata": {},
   "outputs": [],
   "source": [
    "\"\"\"\n",
    "복습!\n",
    "\n",
    "input 값이 둘다 정수라면 두 정수를 나눴을 때의 값을 구해주고,\n",
    "정수가 아니라면 '정수만 계산 가능합니다'라고 출력하고 결과값은 None으로 출력하는 함수입니다.\n",
    "\"\"\"\n",
    "\n",
    "def int_divider(x, y):\n",
    "    if x % 1 == 0 and y % 1 == 0: # 정수 여부 판별\n",
    "        answer = x / y\n",
    "    else:\n",
    "        print('정수만 가능합니다.')\n",
    "        answer = None\n",
    "    return answer"
   ]
  },
  {
   "cell_type": "code",
   "execution_count": 3,
   "id": "9506eabe",
   "metadata": {},
   "outputs": [
    {
     "data": {
      "text/plain": [
       "3.3333333333333335"
      ]
     },
     "execution_count": 3,
     "metadata": {},
     "output_type": "execute_result"
    }
   ],
   "source": [
    "int_divider(10, 3)"
   ]
  },
  {
   "cell_type": "code",
   "execution_count": 5,
   "id": "c3e26fb9",
   "metadata": {},
   "outputs": [
    {
     "name": "stdout",
     "output_type": "stream",
     "text": [
      "정수만 가능합니다.\n"
     ]
    }
   ],
   "source": [
    "int_divider(-1, 0.9)"
   ]
  },
  {
   "cell_type": "code",
   "execution_count": 8,
   "id": "a53908bf",
   "metadata": {},
   "outputs": [],
   "source": [
    "\"\"\"\n",
    "만들고자 하는 함수: 몇개의 input이 들어오든지 상관없이,\n",
    "10 이하의 숫자면 모두 곱해주는 함수\n",
    "\"\"\"\n",
    "\n",
    "def mul(*vals):\n",
    "    output = 1\n",
    "    \n",
    "    for num in vals:\n",
    "        if num <= 10:\n",
    "            output *= num\n",
    "        else:\n",
    "            pass\n",
    "    return output"
   ]
  },
  {
   "cell_type": "code",
   "execution_count": 9,
   "id": "c84f2658",
   "metadata": {},
   "outputs": [
    {
     "data": {
      "text/plain": [
       "120"
      ]
     },
     "execution_count": 9,
     "metadata": {},
     "output_type": "execute_result"
    }
   ],
   "source": [
    "mul(2, 3, 4, 5)"
   ]
  },
  {
   "cell_type": "code",
   "execution_count": 10,
   "id": "410cbd5b",
   "metadata": {},
   "outputs": [
    {
     "data": {
      "text/plain": [
       "30"
      ]
     },
     "execution_count": 10,
     "metadata": {},
     "output_type": "execute_result"
    }
   ],
   "source": [
    "mul(3, 12, 10)"
   ]
  },
  {
   "cell_type": "code",
   "execution_count": null,
   "id": "d1dbc512",
   "metadata": {},
   "outputs": [],
   "source": []
  }
 ],
 "metadata": {
  "kernelspec": {
   "display_name": "Python 3 (ipykernel)",
   "language": "python",
   "name": "python3"
  },
  "language_info": {
   "codemirror_mode": {
    "name": "ipython",
    "version": 3
   },
   "file_extension": ".py",
   "mimetype": "text/x-python",
   "name": "python",
   "nbconvert_exporter": "python",
   "pygments_lexer": "ipython3",
   "version": "3.9.7"
  }
 },
 "nbformat": 4,
 "nbformat_minor": 5
}
